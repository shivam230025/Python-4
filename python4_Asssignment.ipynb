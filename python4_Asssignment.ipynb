{
  "nbformat": 4,
  "nbformat_minor": 0,
  "metadata": {
    "colab": {
      "provenance": []
    },
    "kernelspec": {
      "name": "python3",
      "display_name": "Python 3"
    },
    "language_info": {
      "name": "python"
    }
  },
  "cells": [
    {
      "cell_type": "markdown",
      "source": [
        "# **PYTHON- OOPS**"
      ],
      "metadata": {
        "id": "kc2WQQz91TUu"
      }
    },
    {
      "cell_type": "markdown",
      "source": [
        "# **Theoretical Questions**"
      ],
      "metadata": {
        "id": "e5gEcecd5vhm"
      }
    },
    {
      "cell_type": "markdown",
      "source": [
        "**1-  What is Object-Oriented Programming (OOP)?**"
      ],
      "metadata": {
        "id": "gZouBHM06Esb"
      }
    },
    {
      "cell_type": "markdown",
      "source": [
        "- Object-oriented programming is a programming modal based on concept of \"Objects\" that contains both data and methods that can be performed on data.\n",
        "- some key concepts of OOPS are class, object, polymorphism, inheritance, abstraction, encapsulation."
      ],
      "metadata": {
        "id": "YUzufwmyYy6G"
      }
    },
    {
      "cell_type": "markdown",
      "source": [
        "**2- What is a class in OOP?**"
      ],
      "metadata": {
        "id": "XNfYsT076T5d"
      }
    },
    {
      "cell_type": "markdown",
      "source": [
        "- class is a blueprint or template based on which \"object\" is created, it contains data(attribute) or methods that are shared among the instances of the class."
      ],
      "metadata": {
        "id": "OyzcVyZxatYr"
      }
    },
    {
      "cell_type": "markdown",
      "source": [
        "**3-  What is an object in OOP?**"
      ],
      "metadata": {
        "id": "d1HhexBI6ai3"
      }
    },
    {
      "cell_type": "markdown",
      "source": [
        "- object is the instance of class that contains both atrribute and method of the class they represent.\n",
        "- Objects can be used to represent real-life entities, like \"Dog\" which has attribute like colour, breed and behaviour(method) like bark, sleep.\n"
      ],
      "metadata": {
        "id": "mLOvkP5NbPkQ"
      }
    },
    {
      "cell_type": "markdown",
      "source": [
        "**4- What is the difference between abstraction and encapsulation?**"
      ],
      "metadata": {
        "id": "QHL6uoPF6gZg"
      }
    },
    {
      "cell_type": "markdown",
      "source": [
        "- **Abstraction**- abstraction in OOPS is the concept of hiding unnecessary details and only showing user only essential features or details. abstraction in python is implemented by using abstract class and abstract method, primarily by importing ABC module.\n",
        "- **Encapsulation**- encapsulation in OOPS is the concept of bundling data and methods into single entity called class. it restricts the access to some attributes and methods by using access modifiers like public, private, protected. and provides methods like getter and setter to access the data."
      ],
      "metadata": {
        "id": "nyEomeZHeg7D"
      }
    },
    {
      "cell_type": "markdown",
      "source": [
        "**5- What are dunder methods in Python?**"
      ],
      "metadata": {
        "id": "OrsrQMe_6mhf"
      }
    },
    {
      "cell_type": "markdown",
      "source": [
        "- dunder methods also known as magic methods or special methods that starts and ends with double underscore(__). these are built in methods that python provides to perform various functions or operations.\n",
        "- it allows Objects of class to interact with built in functions or operators, enabling custom behaviour with various operations.\n",
        "- some examples are-`__init__`, `__add__`, `__eq__`\n",
        "\n"
      ],
      "metadata": {
        "id": "rb73Y6ojoey8"
      }
    },
    {
      "cell_type": "markdown",
      "source": [
        "**6- Explain the concept of inheritance in OOP?**"
      ],
      "metadata": {
        "id": "dH7hmiL_6rho"
      }
    },
    {
      "cell_type": "markdown",
      "source": [
        "- Inheritance in OOP enables sub-class to inherit attributes and methods from the parent class allowing code reuse, extension and creation of hierarchichal relationship between classes."
      ],
      "metadata": {
        "id": "q9g_Gcgkrnfd"
      }
    },
    {
      "cell_type": "markdown",
      "source": [
        "**7- What is polymorphism in OOP?**"
      ],
      "metadata": {
        "id": "R6FHmypW6wGm"
      }
    },
    {
      "cell_type": "markdown",
      "source": [
        "- polymorphism name in OOP stems from \"poly\" means many and \"morph\" means forms. as its name sugggests it is the ability of Objects to take on many forms, it allows functions or methods to process object differently based on its class.\n",
        "- it can be achieved by method overloading or method overriding."
      ],
      "metadata": {
        "id": "3F2QmLUQsdTb"
      }
    },
    {
      "cell_type": "code",
      "source": [
        "a=\"shiv\"\n",
        "b=\"kesh\"\n",
        "print(a+b)\n",
        "\n",
        "a=5\n",
        "b=6\n",
        "print(a+b)\n",
        "\n",
        "# here same operators functions differently based on the class of Objects"
      ],
      "metadata": {
        "colab": {
          "base_uri": "https://localhost:8080/"
        },
        "id": "3841D3HB4iVr",
        "outputId": "07e91777-6aa5-4287-8dde-eac809b62025"
      },
      "execution_count": null,
      "outputs": [
        {
          "output_type": "stream",
          "name": "stdout",
          "text": [
            "shivkesh\n",
            "11\n"
          ]
        }
      ]
    },
    {
      "cell_type": "markdown",
      "source": [
        "**8- How is encapsulation achieved in Python?**"
      ],
      "metadata": {
        "id": "BB73xzWV64mL"
      }
    },
    {
      "cell_type": "markdown",
      "source": [
        "- encapsulation in python is achieved with the help of access modifiers like public, private and protected.\n",
        "- public- attribute or methods can be accessed within or outside the class directly\n",
        "- private- members can only be acccessed within the class, to access outside the class needs methods like getter or setter\n",
        "- protected- members can be accessed within class or by subclass."
      ],
      "metadata": {
        "id": "naODqgbb5EqB"
      }
    },
    {
      "cell_type": "markdown",
      "source": [
        "**9-  What is a constructor in Python?**"
      ],
      "metadata": {
        "id": "j6jNGwKv7Cc8"
      }
    },
    {
      "cell_type": "markdown",
      "source": [
        "- constructor in python is a special method known as `__init__` which is called everytime an Object is created. it takes self as parameter and can take other parameter that are to be initialised at the time of object creation."
      ],
      "metadata": {
        "id": "1ZsWwZ0qjBbx"
      }
    },
    {
      "cell_type": "markdown",
      "source": [
        "**10- What are class and static methods in Python?**"
      ],
      "metadata": {
        "id": "Bd12wY1p7F8P"
      }
    },
    {
      "cell_type": "markdown",
      "source": [
        "- class and static methods are two types of methods that belongs to class rather than instance of the class.\n",
        "- Class methods- they are defined using @classmethod decorator, it takes cls(class reference) as a parameter instead self, they can manipulate attribute or behavior of the class that are shared among all instances\n",
        "- static method- they are defined using @static method decorator, it doesnot take both cls or self as parameter, it cannot manipulate attributes nor behavior of the class."
      ],
      "metadata": {
        "id": "ReUx4XVfk2dI"
      }
    },
    {
      "cell_type": "markdown",
      "source": [
        "**11- What is method overloading in Python?**"
      ],
      "metadata": {
        "id": "hRR4991d7T74"
      }
    },
    {
      "cell_type": "markdown",
      "source": [
        "- method overloading is a feature in programming language that treats methods with same name but different parameter as different method\n",
        "- but in python, method overloading is not accepted by default, if you define two method with same name, then latest method will override the other method.\n",
        "- In python, default arguments or variable length arguments are used to simulate method overloading, as it enables methods with same name to handle\n",
        "different no. of parameters."
      ],
      "metadata": {
        "id": "KltvC4_Km0E0"
      }
    },
    {
      "cell_type": "markdown",
      "source": [
        "**12- What is method overriding in OOP?**"
      ],
      "metadata": {
        "id": "zUmd3tna7a16"
      }
    },
    {
      "cell_type": "markdown",
      "source": [
        "- method overriding is a concept in oop in which method defined in the parent class is overrided by method with same name defined in sub-class.\n",
        "- this allows the sub-class to change methods it inherited accordingly."
      ],
      "metadata": {
        "id": "LirRVYeRrB1Z"
      }
    },
    {
      "cell_type": "markdown",
      "source": [
        "**13- What is a property decorator in Python?**"
      ],
      "metadata": {
        "id": "v2A2iOxr7iSB"
      }
    },
    {
      "cell_type": "markdown",
      "source": [
        "- `@property` decorator in python is a built-in decorator which allows class methods to be accessed like normal attribute providing clean way to manage attribute using getter and setter."
      ],
      "metadata": {
        "id": "c0tFUjFkrqT0"
      }
    },
    {
      "cell_type": "code",
      "source": [
        "class Celsius:\n",
        "    def __init__(self, temperature=0):\n",
        "        self._temperature= temperature\n",
        "\n",
        "    @property\n",
        "    def dog(self):\n",
        "      return self._temperature\n",
        "\n",
        "    @dog.setter\n",
        "    def dog(self, value):\n",
        "      self._temperature= value\n",
        "\n",
        "    @dog.deleter\n",
        "    def dog(self):\n",
        "      del self._temperature\n",
        "\n",
        "cel= Celsius(10)\n",
        "cel.dog=20\n",
        "print(cel.dog)"
      ],
      "metadata": {
        "colab": {
          "base_uri": "https://localhost:8080/"
        },
        "id": "4cgtdZSU4u-l",
        "outputId": "fa674014-9467-40b2-ff81-fab1d4553ac7"
      },
      "execution_count": null,
      "outputs": [
        {
          "output_type": "stream",
          "name": "stdout",
          "text": [
            "20\n"
          ]
        }
      ]
    },
    {
      "cell_type": "markdown",
      "source": [
        "**14- Why is polymorphism important in OOP?**"
      ],
      "metadata": {
        "id": "biV5J0oB7m2L"
      }
    },
    {
      "cell_type": "markdown",
      "source": [
        "- polymorphism is important because it allows code flexiblity, reusablity and scalablity by enabling different object to be treated with same method, which dynamically behaves diffferently based on the class implementations"
      ],
      "metadata": {
        "id": "suCAGgsB8_6w"
      }
    },
    {
      "cell_type": "code",
      "source": [
        "class Animal:\n",
        "  def sound(self):\n",
        "    print(\"some common animal sound\")\n",
        "\n",
        "class Dog(Animal):\n",
        "  def sound(self):\n",
        "    print(\"bark\")\n",
        "\n",
        "class Cat(Animal):\n",
        "  def sound(self):\n",
        "    print(\"meow\")\n",
        "\n",
        "def makeSound(obj):\n",
        "  obj.sound()\n",
        "\n",
        "d= Dog()\n",
        "c= Cat()\n",
        "\n",
        "makeSound(d)\n",
        "makeSound(c)\n"
      ],
      "metadata": {
        "colab": {
          "base_uri": "https://localhost:8080/"
        },
        "id": "qsifLeqG_soM",
        "outputId": "343295c6-3bde-43bf-a933-3bdcc52e5456"
      },
      "execution_count": null,
      "outputs": [
        {
          "output_type": "stream",
          "name": "stdout",
          "text": [
            "bark\n",
            "meow\n"
          ]
        }
      ]
    },
    {
      "cell_type": "markdown",
      "source": [
        "- this functionality provides various benefits like allowing to add different animal which has its own sound without changing anything in the code."
      ],
      "metadata": {
        "id": "DGXsiVgOAsdO"
      }
    },
    {
      "cell_type": "markdown",
      "source": [
        "**15- What is an abstract class in Python?**"
      ],
      "metadata": {
        "id": "_Se1V6xG7xrb"
      }
    },
    {
      "cell_type": "markdown",
      "source": [
        "- Abstract class is a blueprint which cannot be instantiated, it can contain abstract method which must be implemented by the subclass inheriting abstract class, this provides consistent behaviour across different implementations."
      ],
      "metadata": {
        "id": "SRB4ohrRBGS_"
      }
    },
    {
      "cell_type": "markdown",
      "source": [
        "**16- What are the advantages of OOP?**"
      ],
      "metadata": {
        "id": "Yv8LQbNc72yF"
      }
    },
    {
      "cell_type": "markdown",
      "source": [
        "- OOP stands for Object oriented programming, it is model which allows various advantages like providing proper structure to the code in the form of classes and objects, percieving code like real life entities having its own attributes and behaviour.\n",
        "- it provides various other advantages like flexiblity, reusablity and scalablity"
      ],
      "metadata": {
        "id": "jezzNNcqCM47"
      }
    },
    {
      "cell_type": "markdown",
      "source": [
        "**17- What is the difference between a class variable and an instance variable?**"
      ],
      "metadata": {
        "id": "J-yNX_ML77uM"
      }
    },
    {
      "cell_type": "markdown",
      "source": [
        "- Class variables is shared among all instances of the class, any changes in the class variable affects all the instances.\n",
        "- instance variable is unique to every instance, it has seperate space in memory, changing one instance variable will not affect instance variable of other object."
      ],
      "metadata": {
        "id": "i57mQvaGD2EW"
      }
    },
    {
      "cell_type": "code",
      "source": [
        "class Car:\n",
        "  wheels= 4    # this is class variable\n",
        "  def __init__(self, colour):\n",
        "    self.colour= colour      # this is instance variable"
      ],
      "metadata": {
        "id": "sVADjYT-FTiQ"
      },
      "execution_count": null,
      "outputs": []
    },
    {
      "cell_type": "markdown",
      "source": [
        "**18- What is multiple inheritance in Python?**"
      ],
      "metadata": {
        "id": "I9WD_7xn7_Pl"
      }
    },
    {
      "cell_type": "markdown",
      "source": [
        "- Multiple inheritance is a type of inheritance in which a subclass can inherit from multiple parent class.\n",
        "- python solves diamond problem in multiple inheritance by allowing the latest parameter class to override the initial class while defining the parameters of the subclass."
      ],
      "metadata": {
        "id": "yGmWlGBZFpW8"
      }
    },
    {
      "cell_type": "markdown",
      "source": [
        "**19- Explain the purpose of ‘’__str__’ and ‘__repr__’‘ methods in Python?**"
      ],
      "metadata": {
        "id": "sxOB1mz78DBM"
      }
    },
    {
      "cell_type": "markdown",
      "source": [
        "- these are the special methods that are used to define the string representation of the object. though they both have different purposes\n",
        "- str()- purpose is to provide readable, user friendly string representation of the object.\n",
        "- repr()- purpose is to provide more detail description, mainly for debugging"
      ],
      "metadata": {
        "id": "5ASiJe0mHOMS"
      }
    },
    {
      "cell_type": "code",
      "source": [
        "class Person:\n",
        "  def __str__(self):\n",
        "    return \"hello str\"\n",
        "  # def __repr__(self):\n",
        "  #   return \"hello repr\"\n",
        "\n",
        "person1= Person()\n",
        "print(person1)\n",
        "print(str(person1))\n",
        "print(repr(person1))"
      ],
      "metadata": {
        "colab": {
          "base_uri": "https://localhost:8080/"
        },
        "id": "iebB4dfyIHnq",
        "outputId": "e75932d5-8857-4b45-f1a7-efe3988ebd06"
      },
      "execution_count": null,
      "outputs": [
        {
          "output_type": "stream",
          "name": "stdout",
          "text": [
            "hello str\n",
            "hello str\n",
            "<__main__.Person object at 0x7b29365e0a40>\n"
          ]
        }
      ]
    },
    {
      "cell_type": "markdown",
      "source": [
        "**20- What is the significance of the ‘super()’ function in Python?**"
      ],
      "metadata": {
        "id": "OXTh1GDG8Mpo"
      }
    },
    {
      "cell_type": "markdown",
      "source": [
        "- `super()` function allows reference of the parent class in the sub-class to access the attributes and method of the parent class without specifically hardcoding the name of the parent class."
      ],
      "metadata": {
        "id": "hDM83ZiyLc-i"
      }
    },
    {
      "cell_type": "markdown",
      "source": [
        "**21- What is the significance of the __del__ method in Python?**"
      ],
      "metadata": {
        "id": "tiGWtKqH8RNU"
      }
    },
    {
      "cell_type": "markdown",
      "source": [
        "- del method deletes the reference to the Object, which allows in freeing memory if no other reference exist to the object. it is useful in memory cleanups and freeing space,"
      ],
      "metadata": {
        "id": "bCIF1lxZMldr"
      }
    },
    {
      "cell_type": "markdown",
      "source": [
        "**22- What is the difference between @staticmethod and @classmethod in Python?**"
      ],
      "metadata": {
        "id": "wDyd4VTT8Urg"
      }
    },
    {
      "cell_type": "markdown",
      "source": [
        "- `@classmethod`- it takes cls(class reference) as a parameter instead of self, they can manipulate attribute or behavior of the class that are shared among all instances.\n",
        "- `@staticmethod`- it doesnot take both cls or self as parameter, it cannot manipulate attributes nor behavior of the class."
      ],
      "metadata": {
        "id": "RV8Co0kmOemV"
      }
    },
    {
      "cell_type": "markdown",
      "source": [
        "**23- How does polymorphism work in Python with inheritance?**"
      ],
      "metadata": {
        "id": "tHCkz18F8YJu"
      }
    },
    {
      "cell_type": "markdown",
      "source": [
        "- polymorphism works with inheritance by enabling different object(having same method name) to be treated with same interface, which dynamically behaves diffferently based on the class implementations."
      ],
      "metadata": {
        "id": "YnKU53w0PjqZ"
      }
    },
    {
      "cell_type": "code",
      "source": [
        "class Animal:\n",
        "  def sound(self):\n",
        "    print(\"some common animal sound\")\n",
        "\n",
        "class Dog(Animal):\n",
        "  def sound(self):\n",
        "    print(\"bark\")\n",
        "\n",
        "class Cat(Animal):\n",
        "  def sound(self):\n",
        "    print(\"meow\")\n",
        "\n",
        "def makeSound(obj):  #same interface accepting different objects having same method name\n",
        "  obj.sound()\n",
        "\n",
        "d= Dog()\n",
        "c= Cat()\n",
        "\n",
        "makeSound(d)\n",
        "makeSound(c)"
      ],
      "metadata": {
        "colab": {
          "base_uri": "https://localhost:8080/"
        },
        "id": "S7JA35KzQSUT",
        "outputId": "721867ff-8baf-4380-b906-76784768b73d"
      },
      "execution_count": null,
      "outputs": [
        {
          "output_type": "stream",
          "name": "stdout",
          "text": [
            "bark\n",
            "meow\n"
          ]
        }
      ]
    },
    {
      "cell_type": "markdown",
      "source": [
        "**24- What is method chaining in Python OOP?**"
      ],
      "metadata": {
        "id": "HAIk5JYY8bWe"
      }
    },
    {
      "cell_type": "markdown",
      "source": [
        "- method chaining in python allows user to write multiple methods sequentially in single line which allows better code readablity\n",
        "- each method return reference to the object itself allowing it to be linked together."
      ],
      "metadata": {
        "id": "WmqGCKCIRm-F"
      }
    },
    {
      "cell_type": "code",
      "source": [
        "class Tea:\n",
        "\n",
        "  def gasOn(self):\n",
        "    print(\"make the stove ON\")\n",
        "    return self\n",
        "\n",
        "  def putIngredients(self):\n",
        "    print(\"put all ingredients like milk, water, sugar, tea leaves\")\n",
        "    return self\n",
        "\n",
        "  def wait(self):\n",
        "    print(\"wait for few minutes till its boiling\")\n",
        "    return self\n",
        "\n",
        "  def gasOff(self):\n",
        "    print(\"make the stove OFF\")\n",
        "    # return self              -- commenting this so it dont return reference in the end\n",
        "\n",
        "tea= Tea()\n",
        "tea.gasOn().putIngredients().wait().gasOff()"
      ],
      "metadata": {
        "colab": {
          "base_uri": "https://localhost:8080/"
        },
        "id": "TVcq9UXRSpg0",
        "outputId": "a96c6953-0010-40b3-f2a1-04e5119beb62"
      },
      "execution_count": null,
      "outputs": [
        {
          "output_type": "stream",
          "name": "stdout",
          "text": [
            "make the stove ON\n",
            "put all ingredients like milk, water, sugar, tea leaves\n",
            "wait for few minutes till its boiling\n",
            "make the stove OFF\n"
          ]
        }
      ]
    },
    {
      "cell_type": "markdown",
      "source": [
        "**25- What is the purpose of the __call__ method in Python?**"
      ],
      "metadata": {
        "id": "IZdIqQ_F8e7s"
      }
    },
    {
      "cell_type": "markdown",
      "source": [
        "- `call method` is a special built in method that allows object to be able to call like a function which accepts parameter.\n",
        "- when objName(args) is called, internally it translates to `objName.__call__(args)`"
      ],
      "metadata": {
        "id": "2ghwXZgMRuM9"
      }
    },
    {
      "cell_type": "code",
      "source": [
        "class Animal:\n",
        "  def __call__(self, val):\n",
        "    print(f\"i have {val} animals\")\n",
        "\n",
        "animal= Animal()\n",
        "animal(3)"
      ],
      "metadata": {
        "colab": {
          "base_uri": "https://localhost:8080/"
        },
        "id": "P4e2-bC9VHWU",
        "outputId": "9a9ab5d1-7628-4db0-e86e-a03ccd5da961"
      },
      "execution_count": null,
      "outputs": [
        {
          "output_type": "stream",
          "name": "stdout",
          "text": [
            "i have 3 animals\n"
          ]
        }
      ]
    },
    {
      "cell_type": "markdown",
      "source": [
        "# **Practical Questions**"
      ],
      "metadata": {
        "id": "WL3MfZcM57UI"
      }
    },
    {
      "cell_type": "markdown",
      "metadata": {
        "id": "6c8a3f04"
      },
      "source": [
        "**1-  Create a parent class Animal with a method speak() that prints a generic message. Create a child class Dog that overrides the speak() method to print \"Bark!\".**"
      ]
    },
    {
      "cell_type": "code",
      "source": [
        "class Animal:\n",
        "  def speak(self):\n",
        "    print(\"generic animal sound\")\n",
        "\n",
        "class Dog(Animal):\n",
        "  def speak(self):\n",
        "    print(\"Bark!\")\n",
        "\n",
        "dog= Dog()\n",
        "dog.speak()"
      ],
      "metadata": {
        "colab": {
          "base_uri": "https://localhost:8080/"
        },
        "id": "T14bkGaH0YU3",
        "outputId": "19a42436-b650-4ed2-c752-45365d0f82fa"
      },
      "execution_count": 1,
      "outputs": [
        {
          "output_type": "stream",
          "name": "stdout",
          "text": [
            "Bark!\n"
          ]
        }
      ]
    },
    {
      "cell_type": "markdown",
      "source": [
        "**2- Write a program to create an abstract class Shape with a method area(). Derive classes Circle and Rectangle from it and implement the area() method in both.**"
      ],
      "metadata": {
        "id": "dYTrsCMB-sly"
      }
    },
    {
      "cell_type": "code",
      "source": [
        "from abc import ABC, abstractmethod\n",
        "\n",
        "class Shape(ABC):\n",
        "  @abstractmethod\n",
        "  def area():\n",
        "    pass\n",
        "\n",
        "class Circle(Shape):\n",
        "  def area(self):\n",
        "    print(\"Area of circle is Pie*r**2\")\n",
        "\n",
        "class Rectangle(Shape):\n",
        "  def area(self):\n",
        "    print(\"Area of rectangle is length*breath\")\n",
        "\n",
        "circle= Circle()\n",
        "rectangle= Rectangle()\n",
        "\n",
        "circle.area()\n",
        "rectangle.area()\n"
      ],
      "metadata": {
        "colab": {
          "base_uri": "https://localhost:8080/"
        },
        "id": "wDHWgSg46OX5",
        "outputId": "c8736d32-dd92-43da-cfa9-e5d7daf6b3eb"
      },
      "execution_count": 5,
      "outputs": [
        {
          "output_type": "stream",
          "name": "stdout",
          "text": [
            "Area of circle is Pie*r**2\n",
            "Area of rectangle is length*breath\n"
          ]
        }
      ]
    },
    {
      "cell_type": "markdown",
      "source": [
        "**3- Implement a multi-level inheritance scenario where a class Vehicle has an attribute type. Derive a class Car and further derive a class ElectricCar that adds a battery attribute.**"
      ],
      "metadata": {
        "id": "BMycamlT-xeJ"
      }
    },
    {
      "cell_type": "code",
      "source": [
        "class Vehicle:\n",
        "  type=\"private\"\n",
        "\n",
        "class Car(Vehicle):\n",
        "  pass\n",
        "\n",
        "class ElectricCar(Car):\n",
        "  battery= 2\n",
        "\n",
        "electricCar= ElectricCar()\n",
        "print(electricCar.type)\n",
        "print(electricCar.battery)"
      ],
      "metadata": {
        "colab": {
          "base_uri": "https://localhost:8080/"
        },
        "id": "RCaShEJ_u0C4",
        "outputId": "5a026bc6-b36e-4d0b-91de-2beec0c1803c"
      },
      "execution_count": 8,
      "outputs": [
        {
          "output_type": "stream",
          "name": "stdout",
          "text": [
            "private\n",
            "2\n"
          ]
        }
      ]
    },
    {
      "cell_type": "markdown",
      "source": [
        "**4-  Demonstrate polymorphism by creating a base class Bird with a method fly(). Create two derived classes Sparrow and Penguin that override the fly() method.**"
      ],
      "metadata": {
        "id": "f3UlKwMh-4y3"
      }
    },
    {
      "cell_type": "code",
      "source": [
        "class Bird:\n",
        "  def fly(self):\n",
        "    print(\"generic bird fly\")\n",
        "\n",
        "class Sparrow(Bird):\n",
        "  def fly(self):\n",
        "    print(\"Sparrow bord fly in low altitude\")\n",
        "\n",
        "class Penguin(Bird):\n",
        "  def fly(self):\n",
        "    print(\"penguin bird don't fly\")\n",
        "\n",
        "sparrowObj= Sparrow()\n",
        "sparrowObj.fly()\n",
        "\n",
        "penguinObj= Penguin()\n",
        "penguinObj.fly()\n"
      ],
      "metadata": {
        "colab": {
          "base_uri": "https://localhost:8080/"
        },
        "id": "2bTNTbygw0Qz",
        "outputId": "8c6bb4ad-8019-4fe4-9126-7006c40c0026"
      },
      "execution_count": 11,
      "outputs": [
        {
          "output_type": "stream",
          "name": "stdout",
          "text": [
            "Sparrow bord fly in low altitude\n",
            "penguin bird don't fly\n"
          ]
        }
      ]
    },
    {
      "cell_type": "markdown",
      "source": [
        "**5- Write a program to demonstrate encapsulation by creating a class BankAccount with private attributes balance and methods to deposit, withdraw, and check balance.**"
      ],
      "metadata": {
        "id": "ZUjDzJi9--1u"
      }
    },
    {
      "cell_type": "code",
      "source": [
        "class BankAccount:\n",
        "  def __init__(self, balance):\n",
        "    self.__balance= balance\n",
        "\n",
        "  def deposit(self, value):\n",
        "    self.__balance+=value\n",
        "\n",
        "  def withdraw(self, value):\n",
        "    if(value>self.__balance):\n",
        "      print(\"balance insufficient\")\n",
        "    self.__balance-=value\n",
        "\n",
        "  def checkBalance(self):\n",
        "    return self.__balance\n",
        "\n",
        "person1= BankAccount(2000)\n",
        "# print(person1.__balance) ---------throws error\n",
        "print(person1.checkBalance())\n",
        "\n",
        "person1.deposit(3000)\n",
        "print(person1.checkBalance())\n",
        "\n",
        "person1.withdraw(4000)\n",
        "print(person1.checkBalance())\n"
      ],
      "metadata": {
        "colab": {
          "base_uri": "https://localhost:8080/"
        },
        "id": "GO3gUVwDzaeT",
        "outputId": "ed7b8470-2750-4437-e4b4-c140e3324bbc"
      },
      "execution_count": 16,
      "outputs": [
        {
          "output_type": "stream",
          "name": "stdout",
          "text": [
            "2000\n",
            "5000\n",
            "1000\n"
          ]
        }
      ]
    },
    {
      "cell_type": "markdown",
      "source": [
        "**6- Demonstrate runtime polymorphism using a method play() in a base class Instrument. Derive classes Guitar and Piano that implement their own version of play().**"
      ],
      "metadata": {
        "id": "sxWsZxGS_DTx"
      }
    },
    {
      "cell_type": "code",
      "source": [
        "class Instrument:\n",
        "  def play(self):\n",
        "    print(\"generic instrument playing\")\n",
        "\n",
        "class Guitar(Instrument):\n",
        "  def play(self):\n",
        "    print(\"Guitar playing..\")\n",
        "\n",
        "class Piano(Instrument):\n",
        "  def play(self):\n",
        "    print(\"Piano playing..\")\n",
        "\n",
        "guitar= Guitar()\n",
        "guitar.play()\n",
        "\n",
        "piano= Piano()\n",
        "piano.play()"
      ],
      "metadata": {
        "colab": {
          "base_uri": "https://localhost:8080/"
        },
        "id": "ZWhzDRaS1fmY",
        "outputId": "c80fd7d7-2119-4650-b96c-ad696cc2942c"
      },
      "execution_count": 17,
      "outputs": [
        {
          "output_type": "stream",
          "name": "stdout",
          "text": [
            "Guitar playing..\n",
            "Piano playing..\n"
          ]
        }
      ]
    },
    {
      "cell_type": "markdown",
      "source": [
        "**7- Create a class MathOperations with a class method add_numbers() to add two numbers and a static method subtract_numbers() to subtract two numbers.**"
      ],
      "metadata": {
        "id": "M2ucMNLl_H4B"
      }
    },
    {
      "cell_type": "code",
      "source": [
        "class MathOperations:\n",
        "  num1= 20\n",
        "  num2= 10\n",
        "\n",
        "  @classmethod\n",
        "  def add_numbers(cls):\n",
        "    return cls.num1 + cls.num2\n",
        "\n",
        "  @staticmethod\n",
        "  def substract_numbers(num1, num2):\n",
        "    return num1- num2\n",
        "\n",
        "print(MathOperations.add_numbers())\n",
        "print(MathOperations.substract_numbers(40, 36))"
      ],
      "metadata": {
        "colab": {
          "base_uri": "https://localhost:8080/"
        },
        "id": "E7e2q-pc2ep8",
        "outputId": "6a60d798-893b-4879-abe1-93d488b8d72c"
      },
      "execution_count": 4,
      "outputs": [
        {
          "output_type": "stream",
          "name": "stdout",
          "text": [
            "30\n",
            "4\n"
          ]
        }
      ]
    },
    {
      "cell_type": "markdown",
      "source": [
        "**8- Implement a class Person with a class method to count the total number of persons created**"
      ],
      "metadata": {
        "id": "nEuheP3c_MWA"
      }
    },
    {
      "cell_type": "code",
      "source": [
        "class Person:\n",
        "  instanceCount=0\n",
        "\n",
        "  def __init__(self):\n",
        "    Person.instanceCount+=1\n",
        "\n",
        "  @classmethod\n",
        "  def count(cls):\n",
        "    return cls.instanceCount\n",
        "\n",
        "person1= Person()\n",
        "person2= Person()\n",
        "person3= Person()\n",
        "person4= Person()\n",
        "\n",
        "print(Person.count())\n"
      ],
      "metadata": {
        "colab": {
          "base_uri": "https://localhost:8080/"
        },
        "id": "6_gdeViBPgBn",
        "outputId": "4eee6d3d-9503-43bb-b214-829f155c762f"
      },
      "execution_count": 14,
      "outputs": [
        {
          "output_type": "stream",
          "name": "stdout",
          "text": [
            "4\n"
          ]
        }
      ]
    },
    {
      "cell_type": "markdown",
      "source": [
        "**9- Write a class Fraction with attributes numerator and denominator. Override the str method to display the fraction as \"numerator/denominator\".**"
      ],
      "metadata": {
        "id": "RXJ3GA_P_V5G"
      }
    },
    {
      "cell_type": "code",
      "source": [
        "class Fraction:\n",
        "  def __init__(self, numerator, denominator):\n",
        "    self.numerator= numerator\n",
        "    self.denominator= denominator\n",
        "\n",
        "  def __str__(self):\n",
        "     return f\"{self.numerator}/{self.denominator}\"\n",
        "\n",
        "fraction= Fraction(5,9)\n",
        "print(fraction)"
      ],
      "metadata": {
        "colab": {
          "base_uri": "https://localhost:8080/"
        },
        "id": "hKXOJmDjSlEC",
        "outputId": "e3ecaaa9-8b10-4b78-e98e-b733a53e4376"
      },
      "execution_count": 21,
      "outputs": [
        {
          "output_type": "stream",
          "name": "stdout",
          "text": [
            "5/9\n"
          ]
        }
      ]
    },
    {
      "cell_type": "markdown",
      "source": [
        "**10- Demonstrate operator overloading by creating a class Vector and overriding the add method to add two vectors.**"
      ],
      "metadata": {
        "id": "N5taHgo9_ayk"
      }
    },
    {
      "cell_type": "code",
      "source": [
        "class Vector:\n",
        "  def __init__(self,x, y):\n",
        "    self.x= x\n",
        "    self.y= y\n",
        "\n",
        "  def __add__(self, vector):  # overriding add method\n",
        "    return Vector(self.x + vector.x , self.y + vector.y)\n",
        "\n",
        "vector1= Vector(3,7)\n",
        "vector2= Vector(1,23)\n",
        "vector3= vector1+ vector2   # overloading add operator\n",
        "print(vector3.x)\n",
        "print(vector3.y)"
      ],
      "metadata": {
        "colab": {
          "base_uri": "https://localhost:8080/"
        },
        "id": "a-f2CjXXVs4T",
        "outputId": "31a454ed-60b9-4e02-d39e-9e6fe0f925c5"
      },
      "execution_count": 25,
      "outputs": [
        {
          "output_type": "stream",
          "name": "stdout",
          "text": [
            "4\n",
            "30\n"
          ]
        }
      ]
    },
    {
      "cell_type": "markdown",
      "source": [
        "**11- Create a class Person with attributes name and age. Add a method greet() that prints \"Hello, my name is {name} and I am {age} years old.\"**"
      ],
      "metadata": {
        "id": "LxCfhSso_e2b"
      }
    },
    {
      "cell_type": "code",
      "source": [
        "class Person:\n",
        "  def __init__(self, name, age):\n",
        "    self.name= name\n",
        "    self.age= age\n",
        "\n",
        "  def greet(self):\n",
        "    print(f\"Hello, my name is {self.name} and I an {self.age} years old\")\n",
        "\n",
        "person1= Person(\"shivam\", 24)\n",
        "person1.greet()"
      ],
      "metadata": {
        "colab": {
          "base_uri": "https://localhost:8080/"
        },
        "id": "--g3Yb03YFN9",
        "outputId": "c965ec3d-8ae0-4737-f41c-4f036f9be5f7"
      },
      "execution_count": 27,
      "outputs": [
        {
          "output_type": "stream",
          "name": "stdout",
          "text": [
            "Hello, my name is shivam and I an 24 years old\n"
          ]
        }
      ]
    },
    {
      "cell_type": "markdown",
      "source": [
        "**12- Implement a class Student with attributes name and grades. Create a method average_grade() to compute the average of the grades.**"
      ],
      "metadata": {
        "id": "s_QsMvbW_jFI"
      }
    },
    {
      "cell_type": "code",
      "source": [
        "class Student:\n",
        "  def __init__(self, name, *grades):\n",
        "    self.name= name\n",
        "    self.grades= grades\n",
        "\n",
        "  def average_grade(self):\n",
        "    return sum(self.grades)/len(self.grades)\n",
        "\n",
        "stud1= Student(\"shivam\", 34, 99, 31, 60)\n",
        "print(f\"average grade is {stud1.average_grade()}\")"
      ],
      "metadata": {
        "colab": {
          "base_uri": "https://localhost:8080/"
        },
        "id": "UbAqtE3qYvCl",
        "outputId": "cde82e0a-32fa-4d09-c851-3937a1fe5b58"
      },
      "execution_count": 31,
      "outputs": [
        {
          "output_type": "stream",
          "name": "stdout",
          "text": [
            "average grade is 56.0\n"
          ]
        }
      ]
    },
    {
      "cell_type": "markdown",
      "source": [
        "**13- Create a class Rectangle with methods set_dimensions() to set the dimensions and area() to calculate the area.**"
      ],
      "metadata": {
        "id": "reGa1OJ4_nEN"
      }
    },
    {
      "cell_type": "code",
      "source": [
        "class Rectangle:\n",
        "  # def __init__(self):\n",
        "  #   self.length=0\n",
        "  #   self.breath=0\n",
        "\n",
        "  def set_dimensions(self, length, breath):\n",
        "    self.length= length\n",
        "    self.breath= breath\n",
        "\n",
        "  def area(self):\n",
        "    return self.length*self.breath\n",
        "\n",
        "rect= Rectangle()\n",
        "rect.set_dimensions(11, 43)\n",
        "print(rect.area())"
      ],
      "metadata": {
        "colab": {
          "base_uri": "https://localhost:8080/"
        },
        "id": "mjVt_4AJb-e7",
        "outputId": "26e95a6f-30e2-41a8-a509-2195c94271b7"
      },
      "execution_count": 38,
      "outputs": [
        {
          "output_type": "stream",
          "name": "stdout",
          "text": [
            "473\n"
          ]
        }
      ]
    },
    {
      "cell_type": "markdown",
      "source": [
        "**14- Create a class Employee with a method calculate_salary() that computes the salary based on hours worked and hourly rate. Create a derived class Manager that adds a bonus to the salary.**"
      ],
      "metadata": {
        "id": "e5UB1Mde_qs_"
      }
    },
    {
      "cell_type": "code",
      "source": [
        "class Employee:\n",
        "  def calculate_salary(self, hours_worked, hourly_rate):\n",
        "    self.hours_worked= hours_worked\n",
        "    self.hourly_rate= hourly_rate\n",
        "    return self.hours_worked * self.hourly_rate\n",
        "\n",
        "class Manager(Employee):\n",
        "  def calculate_salary(self, hours_worked, hourly_rate, bonus):\n",
        "    base_salary= super().calculate_salary(hours_worked, hourly_rate)\n",
        "    self.bonus= bonus\n",
        "    return base_salary + self.bonus\n",
        "\n",
        "manager= Manager()\n",
        "manager.calculate_salary(23,11,250)"
      ],
      "metadata": {
        "colab": {
          "base_uri": "https://localhost:8080/"
        },
        "id": "aM3ZgDf_fJ9b",
        "outputId": "da8c4af1-823e-4992-b5d4-00533cdf6b7f"
      },
      "execution_count": 45,
      "outputs": [
        {
          "output_type": "execute_result",
          "data": {
            "text/plain": [
              "503"
            ]
          },
          "metadata": {},
          "execution_count": 45
        }
      ]
    },
    {
      "cell_type": "markdown",
      "source": [
        "**15- Create a class Product with attributes name, price, and quantity. Implement a method total_price() that calculates the total price of the product.**"
      ],
      "metadata": {
        "id": "43adIrZC_wKy"
      }
    },
    {
      "cell_type": "code",
      "source": [
        "class Product:\n",
        "  def __init__(self, name, price, quantity):\n",
        "    self.name= name\n",
        "    self.price= price\n",
        "    self.quantity= quantity\n",
        "\n",
        "  def total_price(self):\n",
        "    return self.price * self.quantity\n",
        "\n",
        "product= Product(\"toycar\", 2300, 15)\n",
        "print(f\"total price is {product.total_price()}\")"
      ],
      "metadata": {
        "colab": {
          "base_uri": "https://localhost:8080/"
        },
        "id": "GB2F4TIesyIJ",
        "outputId": "3ec2492a-b881-40a5-b167-3a363997ffca"
      },
      "execution_count": 48,
      "outputs": [
        {
          "output_type": "stream",
          "name": "stdout",
          "text": [
            "total price is 34500\n"
          ]
        }
      ]
    },
    {
      "cell_type": "markdown",
      "source": [
        "**16- Create a class Animal with an abstract method sound(). Create two derived classes Cow and Sheep that implement the sound() method.**"
      ],
      "metadata": {
        "id": "fgzfHskF_0G1"
      }
    },
    {
      "cell_type": "code",
      "source": [
        "from abc import ABC, abstractmethod\n",
        "\n",
        "class Animal(ABC):\n",
        "  @abstractmethod\n",
        "  def sound():\n",
        "    pass\n",
        "\n",
        "class Cow(Animal):\n",
        "  def sound(self):\n",
        "    print(\"Cow Sound\")\n",
        "\n",
        "class Sheep(Animal):\n",
        "  def sound(self):\n",
        "    print(\"Sheep Sound\")\n",
        "\n",
        "cow= Cow()\n",
        "cow.sound()\n",
        "\n",
        "sheep= Sheep()\n",
        "sheep.sound()"
      ],
      "metadata": {
        "colab": {
          "base_uri": "https://localhost:8080/"
        },
        "id": "T8ag_IPIyhJ7",
        "outputId": "0e4d83df-f157-4a29-e3b7-c2966de981fe"
      },
      "execution_count": 54,
      "outputs": [
        {
          "output_type": "stream",
          "name": "stdout",
          "text": [
            "Cow Sound\n",
            "Sheep Sound\n"
          ]
        }
      ]
    },
    {
      "cell_type": "markdown",
      "source": [
        "**17- Create a class Book with attributes title, author, and year_published. Add a method get_book_info() that returns a formatted string with the book's details.**"
      ],
      "metadata": {
        "id": "NfUyl5LL_4wa"
      }
    },
    {
      "cell_type": "code",
      "source": [
        "class Book:\n",
        "  def __init__(self, title, author, year_published):\n",
        "    self.title= title\n",
        "    self.author= author\n",
        "    self.year_published= year_published\n",
        "\n",
        "  def get_book_info(self):\n",
        "    return f\"book is {self.title} written by {self.author} published in year {self.year_published}\"\n",
        "\n",
        "book1= Book(\"Harry potter\", \"JK Rowling\", 1990)\n",
        "print(book1.get_book_info())"
      ],
      "metadata": {
        "colab": {
          "base_uri": "https://localhost:8080/"
        },
        "id": "YRQmRf4e0Cdl",
        "outputId": "dc82ac34-befa-4f3e-bd50-f7c6306389f4"
      },
      "execution_count": 55,
      "outputs": [
        {
          "output_type": "stream",
          "name": "stdout",
          "text": [
            "book is Harry potter written by JK Rowling published in year 1990\n"
          ]
        }
      ]
    },
    {
      "cell_type": "markdown",
      "source": [
        "**18- Create a class House with attributes address and price. Create a derived class Mansion that adds an attribute number_of_rooms.**"
      ],
      "metadata": {
        "id": "PD7lR3SI_8wh"
      }
    },
    {
      "cell_type": "code",
      "source": [
        "class House:\n",
        "  def __init__(self, address, price):\n",
        "    self.address= address\n",
        "    self.price= price\n",
        "\n",
        "  def house_info(self):\n",
        "    print(f\"house address is {self.address}\")\n",
        "    print(f\"house price is {self.price}\")\n",
        "\n",
        "class Mansion(House):\n",
        "  def __init__(self, address, price, number_of_rooms):\n",
        "    super().__init__(address, price)\n",
        "    self.number_of_rooms= number_of_rooms\n",
        "\n",
        "  def mansion_info(self):\n",
        "    super().house_info()\n",
        "    print(f\"nuumber of rooms are {self.number_of_rooms}\")\n",
        "\n",
        "mansion= Mansion(\"delhi\", 2500000, 2)\n",
        "mansion.mansion_info()"
      ],
      "metadata": {
        "colab": {
          "base_uri": "https://localhost:8080/"
        },
        "id": "vMZq174a1QZh",
        "outputId": "d2b2edb6-a3aa-41eb-afe2-60a89134735d"
      },
      "execution_count": 61,
      "outputs": [
        {
          "output_type": "stream",
          "name": "stdout",
          "text": [
            "house address is delhi\n",
            "house price is 2500000\n",
            "nuumber of rooms are 2\n"
          ]
        }
      ]
    }
  ]
}